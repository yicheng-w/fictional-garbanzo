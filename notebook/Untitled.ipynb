{
 "cells": [
  {
   "cell_type": "code",
   "execution_count": 1,
   "metadata": {},
   "outputs": [],
   "source": [
    "from BagOfWordsSVM import BoWSVM\n",
    "from nltk import word_tokenize, pos_tag\n",
    "from sklearn.datasets import fetch_20newsgroups\n",
    "\n",
    "newsgroups_train = fetch_20newsgroups(subset='train', remove=('headers', 'footers'))\n",
    "newsgroups_test = fetch_20newsgroups(subset='test', remove=('headers', 'footers'))"
   ]
  },
  {
   "cell_type": "code",
   "execution_count": null,
   "metadata": {},
   "outputs": [
    {
     "name": "stdout",
     "output_type": "stream",
     "text": [
      "11314\n",
      "Done building vocab! Vocab size: 9483\n",
      "Done building train dev!\n",
      "Training...\n",
      "[LibSVM]"
     ]
    }
   ],
   "source": [
    "print(len(newsgroups_train.data))\n",
    "clf = BoWSVM(newsgroups_train.data, newsgroups_train.target, rare_word_threshold=15)\n",
    "clf.fit()\n",
    "clf.test(newsgroups_test.data, newsgroups_test.target)"
   ]
  }
 ],
 "metadata": {
  "kernelspec": {
   "display_name": "Python 3",
   "language": "python",
   "name": "python3"
  },
  "language_info": {
   "codemirror_mode": {
    "name": "ipython",
    "version": 3
   },
   "file_extension": ".py",
   "mimetype": "text/x-python",
   "name": "python",
   "nbconvert_exporter": "python",
   "pygments_lexer": "ipython3",
   "version": "3.7.5"
  }
 },
 "nbformat": 4,
 "nbformat_minor": 2
}
