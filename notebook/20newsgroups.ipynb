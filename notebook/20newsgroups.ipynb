{
 "cells": [
  {
   "cell_type": "code",
   "execution_count": 8,
   "metadata": {},
   "outputs": [],
   "source": [
    "from BagOfWordsNN import BoWMLP\n",
    "from nltk import word_tokenize, pos_tag\n",
    "from sklearn.datasets import fetch_20newsgroups\n",
    "\n",
    "newsgroups_train = fetch_20newsgroups(subset='train', remove=('headers', 'footers'))\n",
    "newsgroups_test = fetch_20newsgroups(subset='test', remove=('headers', 'footers'))"
   ]
  },
  {
   "cell_type": "code",
   "execution_count": 10,
   "metadata": {},
   "outputs": [
    {
     "data": {
      "text/plain": [
       "array([ 0,  1,  2,  3,  4,  5,  6,  7,  8,  9, 10, 11, 12, 13, 14, 15, 16,\n",
       "       17, 18, 19])"
      ]
     },
     "execution_count": 10,
     "metadata": {},
     "output_type": "execute_result"
    }
   ],
   "source": [
    "import numpy as np\n",
    "\n",
    "np.unique(newsgroups_train.target)"
   ]
  },
  {
   "cell_type": "code",
   "execution_count": 2,
   "metadata": {},
   "outputs": [
    {
     "name": "stdout",
     "output_type": "stream",
     "text": [
      "Done building vocab! Vocab size: 9483\n",
      "Done building train dev!\n",
      "Training...\n",
      "Iteration 1, loss = 2.01318117\n",
      "Iteration 2, loss = 0.50874120\n",
      "Iteration 3, loss = 0.21347285\n",
      "Iteration 4, loss = 0.11021507\n",
      "Iteration 5, loss = 0.06563940\n",
      "Iteration 6, loss = 0.04418450\n",
      "Iteration 7, loss = 0.03608604\n",
      "Iteration 8, loss = 0.02773957\n",
      "Iteration 9, loss = 0.02297262\n",
      "Iteration 10, loss = 0.02053814\n",
      "Iteration 11, loss = 0.02056913\n",
      "Iteration 12, loss = 0.01679817\n",
      "Iteration 13, loss = 0.01632024\n",
      "Iteration 14, loss = 0.01460936\n",
      "Iteration 15, loss = 0.01365691\n",
      "Iteration 16, loss = 0.07362657\n",
      "Iteration 17, loss = 0.05210940\n",
      "Iteration 18, loss = 0.02149947\n",
      "Iteration 19, loss = 0.01407016\n",
      "Iteration 20, loss = 0.01209728\n",
      "Iteration 21, loss = 0.01136288\n",
      "Iteration 22, loss = 0.01080822\n",
      "Iteration 23, loss = 0.01016950\n",
      "Iteration 24, loss = 0.00992447\n",
      "Iteration 25, loss = 0.00959286\n",
      "Iteration 26, loss = 0.00946435\n",
      "Iteration 27, loss = 0.00964885\n",
      "Iteration 28, loss = 0.00908466\n",
      "Iteration 29, loss = 0.00893398\n",
      "Iteration 30, loss = 0.00888442\n",
      "Iteration 31, loss = 0.00868467\n",
      "Iteration 32, loss = 0.00853973\n",
      "Iteration 33, loss = 0.00814548\n",
      "Iteration 34, loss = 0.00827802\n",
      "Iteration 35, loss = 0.00800696\n",
      "Iteration 36, loss = 0.00829073\n",
      "Iteration 37, loss = 0.00784106\n",
      "Iteration 38, loss = 0.00776889\n",
      "Iteration 39, loss = 0.00768090\n",
      "Iteration 40, loss = 0.00768246\n",
      "Iteration 41, loss = 0.00750293\n",
      "Iteration 42, loss = 0.00772119\n",
      "Iteration 43, loss = 0.00753260\n",
      "Iteration 44, loss = 0.00741725\n",
      "Iteration 45, loss = 0.00725881\n",
      "Iteration 46, loss = 0.00758263\n",
      "Iteration 47, loss = 0.00682176\n",
      "Iteration 48, loss = 0.00782060\n",
      "Iteration 49, loss = 0.00729798\n",
      "Iteration 50, loss = 0.00737091\n",
      "Iteration 51, loss = 0.00711793\n",
      "Iteration 52, loss = 0.00713959\n",
      "Iteration 53, loss = 0.00704028\n",
      "Iteration 54, loss = 0.00687188\n",
      "Iteration 55, loss = 0.00697182\n",
      "Iteration 56, loss = 0.00653398\n",
      "Iteration 57, loss = 0.00664810\n",
      "Iteration 58, loss = 0.00692791\n",
      "Iteration 59, loss = 0.00671524\n",
      "Iteration 60, loss = 0.00654031\n",
      "Iteration 61, loss = 0.00660614\n",
      "Iteration 62, loss = 0.00669768\n",
      "Iteration 63, loss = 0.00650204\n",
      "Iteration 64, loss = 0.00679215\n",
      "Iteration 65, loss = 0.00680066\n",
      "Iteration 66, loss = 0.00679835\n",
      "Iteration 67, loss = 0.00665840\n",
      "Training loss did not improve more than tol=0.000100 for 10 consecutive epochs. Stopping.\n",
      "Training done!\n",
      "Testing on dev...\n",
      "Done! Scores below:\n",
      "0.8001768346595933\n"
     ]
    },
    {
     "ename": "ValueError",
     "evalue": "Expected 2D array, got 1D array instead:\narray=['I am a little confused on all of the models of the 88-89 bonnevilles.\\nI have heard of the LE SE LSE SSE SSEI. Could someone tell me the\\ndifferences are far as features or performance. I am also curious to\\nknow what the book value is for prefereably the 89 model. And how much\\nless than book value can you usually get them for. In other words how\\nmuch are they in demand this time of year. I have heard that the mid-spring\\nearly summer is the best time to buy.'\n 'I\\'m not familiar at all with the format of these \"X-Face:\" thingies, but\\nafter seeing them in some folks\\' headers, I\\'ve *got* to *see* them (and\\nmaybe make one of my own)!\\n\\nI\\'ve got \"dpg-view\" on my Linux box (which displays \"uncompressed X-Faces\")\\nand I\\'ve managed to compile [un]compface too... but now that I\\'m *looking*\\nfor them, I can\\'t seem to find any X-Face:\\'s in anyones news headers!  :-(\\n\\nCould you, would you, please send me your \"X-Face:\" header?\\n\\nI *know* I\\'ll probably get a little swamped, but I can handle it.\\n\\n\\t...I hope.'\n 'acooper@mac.cc.macalstr.edu (Turin Turambar, ME Department of Utter Misery) writes:\\n> Did that FAQ ever got modified to re-define strong atheists as not those who\\n> assert the nonexistence of God, but as those who assert that they BELIEVE in \\n> the nonexistence of God?\\n\\nIn a word, yes.\\n'\n ...\n 'I sent a version of this post out a while ago, but it was swallowed by\\nthe void.  My apologies if anyone ends up receiving it.\\n\\nSherri Nichols writes:\\n\\n>In article <22APR93.04131972@vax.clarku.edu> hhenderson@vax.clarku.edu writes:\\n>>snichols@adobe.com (Sherri Nichols) writes:\\n>>\\n>>>I just don\\'t\\n>>>happen to think that the 11-15 minutes added to the length of games over\\n>>>the last 10 years has added anything interesting.\\n>>\\n>>How would you quantify that?  I suppose an easy way would be to look at\\n>>attendance figures.  Anyone got the numbers?\\n>\\n>Attendance figures aren\\'t going to quantify anything about my personal\\n>opinion, which the above is clearly stated as.  Add \"to me\" to the end of\\n>my sentence, if you\\'re confused about what I meant.\\n\\nOh no, I wasn\\'t confused -- I understood that it was your personal\\nopinion.  But I thought we were discussing the need to shorten\\ngames.  The arguments which declare this need seem to hinge on\\nthe assertion that long games bore people and otherwise discourage\\nthem from going to the ballpark.  I\\'d like to see if the increased\\nlength of games has negatively affected attendance.  If it has, then\\nthere *is* a problem, and something should be done about it.  If it\\nhasn\\'t, then there *isn\\'t* a problem, and there\\'s no need to monkey\\nwith things as they are.'\n \"I have this kit which includes the following :\\n\\n1)\\t82c84a/82c84a-5\\n\\tCHMOS CLOCK GENERATOR AND DRIVER\\n\\tFOR 8086,80C88 PROCESSORS\\n2)\\t27C64/87C64\\n\\t64K(8Kx8) CHMOS UV ERASABLE PROM\\n3)\\t51C259L\\n\\tLOW POWER 64K x 4\\n\\tCHMOS DYNAMIC RAM\\n4)\\t82C59A-2\\n\\tCHMOS PROGRAMMABLE INTERRUPT CONTROLLER\\n5)\\t82C88\\n\\tCHMOS BUS CONTROLLER\\n\\tFRO 80C86,80C88 PROCESSORS\\n6)\\t80C88/80C88-2\\n\\t8-BIT CHMOS MICROPROCESSOR\\n7)\\t82C55A\\n\\tCHMOS PROGRAMMABLE PERIPHERAL INTERFACE\\n8)\\t82C54\\n\\tCHMOS PROGRAMMABLE INTERVAL TIMER\\n9)\\t82C08\\n\\tCHMOS DYNAMIC RAM CONTROLLER\\n\\nAll these are chips with complete manual in a box. I don't know whether they\\nstill work or not, and I don't really know what they are. \\n\\nSo this is mainly for those who knows what this is and have use of it \\n(probably EE stuff since this used to belong to a EE student)\\n\\nAnyone interested, please make me an offer.\"\n 'In article <May.13.02.29.39.1993.1505@geneva.rutgers.edu>, revdak@netcom.com (D. Andrew Kille) writes:\\n> Of course the whole issue is one of discernment.  It may be that Satan\\n> is trying to convince us that we know more than God.  Or it may be that\\n> God is trying (as God did with Peter) to teach us something we don\\'t\\n> know- that \"God shows no partiality, but in every nation anyone who fears\\n> him and does what is right is acceptable to him.\" (Acts 10:34-35).\\n> \\n> revdak@netcom.com\\n\\nFine, but one of the points of this entire discussion is that \"we\"\\n(conservative, reformed christians - this could start an argument...\\nBut isn\\'t this idea that homosexuality is ok fairly \"new\" [this\\ncentury] ? Is there any support for this being a viable viewpoint\\nbefore this century? I don\\'t know.) don\\'t believe that homosexuality\\nis \"acceptable to Him\". So your scripture quotation doesn\\'t work for\\n\"us\".'].\nReshape your data either using array.reshape(-1, 1) if your data has a single feature or array.reshape(1, -1) if it contains a single sample.",
     "output_type": "error",
     "traceback": [
      "\u001b[0;31m---------------------------------------------------------------------------\u001b[0m",
      "\u001b[0;31mValueError\u001b[0m                                Traceback (most recent call last)",
      "\u001b[0;32m<ipython-input-2-3bb15cec35a1>\u001b[0m in \u001b[0;36m<module>\u001b[0;34m\u001b[0m\n\u001b[1;32m      1\u001b[0m \u001b[0mclf\u001b[0m \u001b[0;34m=\u001b[0m \u001b[0mBoWMLP\u001b[0m\u001b[0;34m(\u001b[0m\u001b[0mnewsgroups_train\u001b[0m\u001b[0;34m.\u001b[0m\u001b[0mdata\u001b[0m\u001b[0;34m,\u001b[0m \u001b[0mnewsgroups_train\u001b[0m\u001b[0;34m.\u001b[0m\u001b[0mtarget\u001b[0m\u001b[0;34m,\u001b[0m \u001b[0mrare_word_threshold\u001b[0m\u001b[0;34m=\u001b[0m\u001b[0;36m15\u001b[0m\u001b[0;34m)\u001b[0m\u001b[0;34m\u001b[0m\u001b[0;34m\u001b[0m\u001b[0m\n\u001b[1;32m      2\u001b[0m \u001b[0mclf\u001b[0m\u001b[0;34m.\u001b[0m\u001b[0mfit\u001b[0m\u001b[0;34m(\u001b[0m\u001b[0;34m)\u001b[0m\u001b[0;34m\u001b[0m\u001b[0;34m\u001b[0m\u001b[0m\n\u001b[0;32m----> 3\u001b[0;31m \u001b[0mclf\u001b[0m\u001b[0;34m.\u001b[0m\u001b[0mtest\u001b[0m\u001b[0;34m(\u001b[0m\u001b[0mnewsgroups_test\u001b[0m\u001b[0;34m.\u001b[0m\u001b[0mdata\u001b[0m\u001b[0;34m,\u001b[0m \u001b[0mnewsgroups_test\u001b[0m\u001b[0;34m.\u001b[0m\u001b[0mtarget\u001b[0m\u001b[0;34m)\u001b[0m\u001b[0;34m\u001b[0m\u001b[0;34m\u001b[0m\u001b[0m\n\u001b[0m",
      "\u001b[0;32m/media/storage/Documents/UNC/comp755/final/fictional-garbanzo/notebook/BagOfWordsNN.py\u001b[0m in \u001b[0;36mtest\u001b[0;34m(self, data, labels)\u001b[0m\n\u001b[1;32m     96\u001b[0m \u001b[0;34m\u001b[0m\u001b[0m\n\u001b[1;32m     97\u001b[0m     \u001b[0;32mdef\u001b[0m \u001b[0mtest\u001b[0m\u001b[0;34m(\u001b[0m\u001b[0mself\u001b[0m\u001b[0;34m,\u001b[0m \u001b[0mdata\u001b[0m\u001b[0;34m,\u001b[0m \u001b[0mlabels\u001b[0m\u001b[0;34m)\u001b[0m\u001b[0;34m:\u001b[0m\u001b[0;34m\u001b[0m\u001b[0;34m\u001b[0m\u001b[0m\n\u001b[0;32m---> 98\u001b[0;31m         \u001b[0mprint\u001b[0m\u001b[0;34m(\u001b[0m\u001b[0mself\u001b[0m\u001b[0;34m.\u001b[0m\u001b[0m_clf\u001b[0m\u001b[0;34m.\u001b[0m\u001b[0mscore\u001b[0m\u001b[0;34m(\u001b[0m\u001b[0mdata\u001b[0m\u001b[0;34m,\u001b[0m \u001b[0mlabels\u001b[0m\u001b[0;34m)\u001b[0m\u001b[0;34m)\u001b[0m\u001b[0;34m\u001b[0m\u001b[0;34m\u001b[0m\u001b[0m\n\u001b[0m\u001b[1;32m     99\u001b[0m \u001b[0;34m\u001b[0m\u001b[0m\n\u001b[1;32m    100\u001b[0m     \u001b[0;32mdef\u001b[0m \u001b[0mclassify\u001b[0m\u001b[0;34m(\u001b[0m\u001b[0mself\u001b[0m\u001b[0;34m,\u001b[0m \u001b[0mdata\u001b[0m\u001b[0;34m)\u001b[0m\u001b[0;34m:\u001b[0m\u001b[0;34m\u001b[0m\u001b[0;34m\u001b[0m\u001b[0m\n",
      "\u001b[0;32m/usr/local/lib/python3.7/dist-packages/sklearn/base.py\u001b[0m in \u001b[0;36mscore\u001b[0;34m(self, X, y, sample_weight)\u001b[0m\n\u001b[1;32m    367\u001b[0m         \"\"\"\n\u001b[1;32m    368\u001b[0m         \u001b[0;32mfrom\u001b[0m \u001b[0;34m.\u001b[0m\u001b[0mmetrics\u001b[0m \u001b[0;32mimport\u001b[0m \u001b[0maccuracy_score\u001b[0m\u001b[0;34m\u001b[0m\u001b[0;34m\u001b[0m\u001b[0m\n\u001b[0;32m--> 369\u001b[0;31m         \u001b[0;32mreturn\u001b[0m \u001b[0maccuracy_score\u001b[0m\u001b[0;34m(\u001b[0m\u001b[0my\u001b[0m\u001b[0;34m,\u001b[0m \u001b[0mself\u001b[0m\u001b[0;34m.\u001b[0m\u001b[0mpredict\u001b[0m\u001b[0;34m(\u001b[0m\u001b[0mX\u001b[0m\u001b[0;34m)\u001b[0m\u001b[0;34m,\u001b[0m \u001b[0msample_weight\u001b[0m\u001b[0;34m=\u001b[0m\u001b[0msample_weight\u001b[0m\u001b[0;34m)\u001b[0m\u001b[0;34m\u001b[0m\u001b[0;34m\u001b[0m\u001b[0m\n\u001b[0m\u001b[1;32m    370\u001b[0m \u001b[0;34m\u001b[0m\u001b[0m\n\u001b[1;32m    371\u001b[0m \u001b[0;34m\u001b[0m\u001b[0m\n",
      "\u001b[0;32m/usr/local/lib/python3.7/dist-packages/sklearn/neural_network/_multilayer_perceptron.py\u001b[0m in \u001b[0;36mpredict\u001b[0;34m(self, X)\u001b[0m\n\u001b[1;32m    969\u001b[0m         \"\"\"\n\u001b[1;32m    970\u001b[0m         \u001b[0mcheck_is_fitted\u001b[0m\u001b[0;34m(\u001b[0m\u001b[0mself\u001b[0m\u001b[0;34m)\u001b[0m\u001b[0;34m\u001b[0m\u001b[0;34m\u001b[0m\u001b[0m\n\u001b[0;32m--> 971\u001b[0;31m         \u001b[0my_pred\u001b[0m \u001b[0;34m=\u001b[0m \u001b[0mself\u001b[0m\u001b[0;34m.\u001b[0m\u001b[0m_predict\u001b[0m\u001b[0;34m(\u001b[0m\u001b[0mX\u001b[0m\u001b[0;34m)\u001b[0m\u001b[0;34m\u001b[0m\u001b[0;34m\u001b[0m\u001b[0m\n\u001b[0m\u001b[1;32m    972\u001b[0m \u001b[0;34m\u001b[0m\u001b[0m\n\u001b[1;32m    973\u001b[0m         \u001b[0;32mif\u001b[0m \u001b[0mself\u001b[0m\u001b[0;34m.\u001b[0m\u001b[0mn_outputs_\u001b[0m \u001b[0;34m==\u001b[0m \u001b[0;36m1\u001b[0m\u001b[0;34m:\u001b[0m\u001b[0;34m\u001b[0m\u001b[0;34m\u001b[0m\u001b[0m\n",
      "\u001b[0;32m/usr/local/lib/python3.7/dist-packages/sklearn/neural_network/_multilayer_perceptron.py\u001b[0m in \u001b[0;36m_predict\u001b[0;34m(self, X)\u001b[0m\n\u001b[1;32m    665\u001b[0m             \u001b[0mThe\u001b[0m \u001b[0mdecision\u001b[0m \u001b[0mfunction\u001b[0m \u001b[0mof\u001b[0m \u001b[0mthe\u001b[0m \u001b[0msamples\u001b[0m \u001b[0;32mfor\u001b[0m \u001b[0meach\u001b[0m \u001b[0;32mclass\u001b[0m \u001b[0;32min\u001b[0m \u001b[0mthe\u001b[0m \u001b[0mmodel\u001b[0m\u001b[0;34m.\u001b[0m\u001b[0;34m\u001b[0m\u001b[0;34m\u001b[0m\u001b[0m\n\u001b[1;32m    666\u001b[0m         \"\"\"\n\u001b[0;32m--> 667\u001b[0;31m         \u001b[0mX\u001b[0m \u001b[0;34m=\u001b[0m \u001b[0mcheck_array\u001b[0m\u001b[0;34m(\u001b[0m\u001b[0mX\u001b[0m\u001b[0;34m,\u001b[0m \u001b[0maccept_sparse\u001b[0m\u001b[0;34m=\u001b[0m\u001b[0;34m[\u001b[0m\u001b[0;34m'csr'\u001b[0m\u001b[0;34m,\u001b[0m \u001b[0;34m'csc'\u001b[0m\u001b[0;34m,\u001b[0m \u001b[0;34m'coo'\u001b[0m\u001b[0;34m]\u001b[0m\u001b[0;34m)\u001b[0m\u001b[0;34m\u001b[0m\u001b[0;34m\u001b[0m\u001b[0m\n\u001b[0m\u001b[1;32m    668\u001b[0m \u001b[0;34m\u001b[0m\u001b[0m\n\u001b[1;32m    669\u001b[0m         \u001b[0;31m# Make sure self.hidden_layer_sizes is a list\u001b[0m\u001b[0;34m\u001b[0m\u001b[0;34m\u001b[0m\u001b[0;34m\u001b[0m\u001b[0m\n",
      "\u001b[0;32m/usr/local/lib/python3.7/dist-packages/sklearn/utils/validation.py\u001b[0m in \u001b[0;36mcheck_array\u001b[0;34m(array, accept_sparse, accept_large_sparse, dtype, order, copy, force_all_finite, ensure_2d, allow_nd, ensure_min_samples, ensure_min_features, warn_on_dtype, estimator)\u001b[0m\n\u001b[1;32m    554\u001b[0m                     \u001b[0;34m\"Reshape your data either using array.reshape(-1, 1) if \"\u001b[0m\u001b[0;34m\u001b[0m\u001b[0;34m\u001b[0m\u001b[0m\n\u001b[1;32m    555\u001b[0m                     \u001b[0;34m\"your data has a single feature or array.reshape(1, -1) \"\u001b[0m\u001b[0;34m\u001b[0m\u001b[0;34m\u001b[0m\u001b[0m\n\u001b[0;32m--> 556\u001b[0;31m                     \"if it contains a single sample.\".format(array))\n\u001b[0m\u001b[1;32m    557\u001b[0m \u001b[0;34m\u001b[0m\u001b[0m\n\u001b[1;32m    558\u001b[0m         \u001b[0;31m# in the future np.flexible dtypes will be handled like object dtypes\u001b[0m\u001b[0;34m\u001b[0m\u001b[0;34m\u001b[0m\u001b[0;34m\u001b[0m\u001b[0m\n",
      "\u001b[0;31mValueError\u001b[0m: Expected 2D array, got 1D array instead:\narray=['I am a little confused on all of the models of the 88-89 bonnevilles.\\nI have heard of the LE SE LSE SSE SSEI. Could someone tell me the\\ndifferences are far as features or performance. I am also curious to\\nknow what the book value is for prefereably the 89 model. And how much\\nless than book value can you usually get them for. In other words how\\nmuch are they in demand this time of year. I have heard that the mid-spring\\nearly summer is the best time to buy.'\n 'I\\'m not familiar at all with the format of these \"X-Face:\" thingies, but\\nafter seeing them in some folks\\' headers, I\\'ve *got* to *see* them (and\\nmaybe make one of my own)!\\n\\nI\\'ve got \"dpg-view\" on my Linux box (which displays \"uncompressed X-Faces\")\\nand I\\'ve managed to compile [un]compface too... but now that I\\'m *looking*\\nfor them, I can\\'t seem to find any X-Face:\\'s in anyones news headers!  :-(\\n\\nCould you, would you, please send me your \"X-Face:\" header?\\n\\nI *know* I\\'ll probably get a little swamped, but I can handle it.\\n\\n\\t...I hope.'\n 'acooper@mac.cc.macalstr.edu (Turin Turambar, ME Department of Utter Misery) writes:\\n> Did that FAQ ever got modified to re-define strong atheists as not those who\\n> assert the nonexistence of God, but as those who assert that they BELIEVE in \\n> the nonexistence of God?\\n\\nIn a word, yes.\\n'\n ...\n 'I sent a version of this post out a while ago, but it was swallowed by\\nthe void.  My apologies if anyone ends up receiving it.\\n\\nSherri Nichols writes:\\n\\n>In article <22APR93.04131972@vax.clarku.edu> hhenderson@vax.clarku.edu writes:\\n>>snichols@adobe.com (Sherri Nichols) writes:\\n>>\\n>>>I just don\\'t\\n>>>happen to think that the 11-15 minutes added to the length of games over\\n>>>the last 10 years has added anything interesting.\\n>>\\n>>How would you quantify that?  I suppose an easy way would be to look at\\n>>attendance figures.  Anyone got the numbers?\\n>\\n>Attendance figures aren\\'t going to quantify anything about my personal\\n>opinion, which the above is clearly stated as.  Add \"to me\" to the end of\\n>my sentence, if you\\'re confused about what I meant.\\n\\nOh no, I wasn\\'t confused -- I understood that it was your personal\\nopinion.  But I thought we were discussing the need to shorten\\ngames.  The arguments which declare this need seem to hinge on\\nthe assertion that long games bore people and otherwise discourage\\nthem from going to the ballpark.  I\\'d like to see if the increased\\nlength of games has negatively affected attendance.  If it has, then\\nthere *is* a problem, and something should be done about it.  If it\\nhasn\\'t, then there *isn\\'t* a problem, and there\\'s no need to monkey\\nwith things as they are.'\n \"I have this kit which includes the following :\\n\\n1)\\t82c84a/82c84a-5\\n\\tCHMOS CLOCK GENERATOR AND DRIVER\\n\\tFOR 8086,80C88 PROCESSORS\\n2)\\t27C64/87C64\\n\\t64K(8Kx8) CHMOS UV ERASABLE PROM\\n3)\\t51C259L\\n\\tLOW POWER 64K x 4\\n\\tCHMOS DYNAMIC RAM\\n4)\\t82C59A-2\\n\\tCHMOS PROGRAMMABLE INTERRUPT CONTROLLER\\n5)\\t82C88\\n\\tCHMOS BUS CONTROLLER\\n\\tFRO 80C86,80C88 PROCESSORS\\n6)\\t80C88/80C88-2\\n\\t8-BIT CHMOS MICROPROCESSOR\\n7)\\t82C55A\\n\\tCHMOS PROGRAMMABLE PERIPHERAL INTERFACE\\n8)\\t82C54\\n\\tCHMOS PROGRAMMABLE INTERVAL TIMER\\n9)\\t82C08\\n\\tCHMOS DYNAMIC RAM CONTROLLER\\n\\nAll these are chips with complete manual in a box. I don't know whether they\\nstill work or not, and I don't really know what they are. \\n\\nSo this is mainly for those who knows what this is and have use of it \\n(probably EE stuff since this used to belong to a EE student)\\n\\nAnyone interested, please make me an offer.\"\n 'In article <May.13.02.29.39.1993.1505@geneva.rutgers.edu>, revdak@netcom.com (D. Andrew Kille) writes:\\n> Of course the whole issue is one of discernment.  It may be that Satan\\n> is trying to convince us that we know more than God.  Or it may be that\\n> God is trying (as God did with Peter) to teach us something we don\\'t\\n> know- that \"God shows no partiality, but in every nation anyone who fears\\n> him and does what is right is acceptable to him.\" (Acts 10:34-35).\\n> \\n> revdak@netcom.com\\n\\nFine, but one of the points of this entire discussion is that \"we\"\\n(conservative, reformed christians - this could start an argument...\\nBut isn\\'t this idea that homosexuality is ok fairly \"new\" [this\\ncentury] ? Is there any support for this being a viable viewpoint\\nbefore this century? I don\\'t know.) don\\'t believe that homosexuality\\nis \"acceptable to Him\". So your scripture quotation doesn\\'t work for\\n\"us\".'].\nReshape your data either using array.reshape(-1, 1) if your data has a single feature or array.reshape(1, -1) if it contains a single sample."
     ]
    }
   ],
   "source": [
    "clf = BoWMLP(newsgroups_train.data, newsgroups_train.target, rare_word_threshold=15)\n",
    "clf.fit()\n",
    "clf.test(newsgroups_test.data, newsgroups_test.target)"
   ]
  },
  {
   "cell_type": "code",
   "execution_count": 4,
   "metadata": {},
   "outputs": [
    {
     "name": "stdout",
     "output_type": "stream",
     "text": [
      "0.6926447158789166\n"
     ]
    }
   ],
   "source": [
    "test_X = clf._preprocess_X(newsgroups_test.data)\n",
    "clf.test(test_X, newsgroups_test.target)"
   ]
  },
  {
   "cell_type": "code",
   "execution_count": 5,
   "metadata": {},
   "outputs": [
    {
     "data": {
      "text/plain": [
       "['BoWMLP-newsgroups.joblib']"
      ]
     },
     "execution_count": 5,
     "metadata": {},
     "output_type": "execute_result"
    }
   ],
   "source": [
    "import joblib\n",
    "\n",
    "joblib.dump(clf, \"BoWMLP-newsgroups.joblib\")"
   ]
  },
  {
   "cell_type": "code",
   "execution_count": 6,
   "metadata": {},
   "outputs": [
    {
     "name": "stdout",
     "output_type": "stream",
     "text": [
      "Done building vocab! Vocab size: 9483\n",
      "Done building train dev!\n",
      "Training...\n"
     ]
    },
    {
     "name": "stderr",
     "output_type": "stream",
     "text": [
      "[Parallel(n_jobs=1)]: Using backend SequentialBackend with 1 concurrent workers.\n",
      "/usr/local/lib/python3.7/dist-packages/sklearn/linear_model/_logistic.py:940: ConvergenceWarning: lbfgs failed to converge (status=1):\n",
      "STOP: TOTAL NO. of ITERATIONS REACHED LIMIT.\n",
      "\n",
      "Increase the number of iterations (max_iter) or scale the data as shown in:\n",
      "    https://scikit-learn.org/stable/modules/preprocessing.html\n",
      "Please also refer to the documentation for alternative solver options:\n",
      "    https://scikit-learn.org/stable/modules/linear_model.html#logistic-regression\n",
      "  extra_warning_msg=_LOGISTIC_SOLVER_CONVERGENCE_MSG)\n",
      "[Parallel(n_jobs=1)]: Done   1 out of   1 | elapsed:  1.0min finished\n"
     ]
    },
    {
     "name": "stdout",
     "output_type": "stream",
     "text": [
      "Training done!\n",
      "Testing on dev...\n",
      "Done! Scores below:\n",
      "0.7948717948717948\n",
      "0.6992830589484864\n"
     ]
    }
   ],
   "source": [
    "from BagOfWordsLogReg import BoWLR\n",
    "\n",
    "clf2 = BoWLR(newsgroups_train.data, newsgroups_train.target, rare_word_threshold=15)\n",
    "clf2.fit()\n",
    "clf2.test(newsgroups_test.data, newsgroups_test.target)"
   ]
  },
  {
   "cell_type": "code",
   "execution_count": 7,
   "metadata": {},
   "outputs": [
    {
     "data": {
      "text/plain": [
       "['BoWLogReg-newsgroups.joblib']"
      ]
     },
     "execution_count": 7,
     "metadata": {},
     "output_type": "execute_result"
    }
   ],
   "source": [
    "joblibidumpb.dump(clf2, \"BoWLogReg-newsgroups.joblib\")"
   ]
  }
 ],
 "metadata": {
  "kernelspec": {
   "display_name": "Python 3",
   "language": "python",
   "name": "python3"
  },
  "language_info": {
   "codemirror_mode": {
    "name": "ipython",
    "version": 3
   },
   "file_extension": ".py",
   "mimetype": "text/x-python",
   "name": "python",
   "nbconvert_exporter": "python",
   "pygments_lexer": "ipython3",
   "version": "3.7.5"
  }
 },
 "nbformat": 4,
 "nbformat_minor": 2
}
